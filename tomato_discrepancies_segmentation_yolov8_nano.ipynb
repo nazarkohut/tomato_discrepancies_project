{
 "cells": [
  {
   "cell_type": "markdown",
   "metadata": {
    "id": "CJUljofal0e9"
   },
   "source": [
    "# Segmentation of tomato discrepancies and diseases"
   ]
  },
  {
   "cell_type": "markdown",
   "source": [
    "### Setup"
   ],
   "metadata": {
    "id": "ecjsCt2lBFyY"
   }
  },
  {
   "cell_type": "markdown",
   "metadata": {
    "id": "-N3t6KNLmqWS"
   },
   "source": [
    "Install required libraries"
   ]
  },
  {
   "cell_type": "code",
   "source": "!pip install -e .",
   "metadata": {
    "colab": {
     "base_uri": "https://localhost:8080/"
    },
    "id": "-e9BghtxEcdA",
    "outputId": "0673ab9f-6395-4889-ff7c-f4608e4b05a4"
   },
   "outputs": [],
   "execution_count": null
  },
  {
   "cell_type": "code",
   "source": [
    "!pip install onnx"
   ],
   "metadata": {
    "colab": {
     "base_uri": "https://localhost:8080/"
    },
    "id": "3wrntq15JYqT",
    "outputId": "42bdaa80-9c31-4884-9a41-e554968942d1"
   },
   "outputs": [],
   "execution_count": null
  },
  {
   "cell_type": "markdown",
   "metadata": {
    "id": "wW3LO3fcmOuI"
   },
   "source": [
    "Import required libraries"
   ]
  },
  {
   "cell_type": "code",
   "metadata": {
    "colab": {
     "base_uri": "https://localhost:8080/"
    },
    "id": "tdSMcABDNKW-",
    "outputId": "ec234c17-e357-4301-f800-b9e490709bcb"
   },
   "source": [
    "from IPython import display\n",
    "display.clear_output()\n",
    "\n",
    "import ultralytics\n",
    "ultralytics.checks()"
   ],
   "outputs": [],
   "execution_count": null
  },
  {
   "cell_type": "code",
   "metadata": {
    "id": "VOEYrlBoP9-E"
   },
   "source": [
    "import os\n",
    "import glob\n",
    "\n",
    "from ultralytics import YOLO\n",
    "from ultralytics import settings\n",
    "\n",
    "settings.update({\"wandb\": False})\n",
    "\n",
    "from IPython.display import display, Image"
   ],
   "outputs": [],
   "execution_count": null
  },
  {
   "cell_type": "code",
   "metadata": {
    "id": "CjpPg4mGKc1v"
   },
   "source": [
    "# Define number of epochs for training and image size\n",
    "SAVE_PERIOD = 35\n",
    "CLOSE_MOSAIC = 10\n",
    "EPOCHS = 1\n",
    "IMAGE_SIZE = 640\n",
    "\n",
    "EXPERIMENTS_DIR = \"C:\\\\Users\\\\admin\\\\PycharmProjects\\\\tomato_discrepancies_project\"\n",
    "# Define directories and pathes to be used\n",
    "EXPERIMENTS_FOLDER = f\"{EXPERIMENTS_DIR}/tomato-discrepancies-segmentation\"\n",
    "\n",
    "DATASET_FOLDER = f\"{EXPERIMENTS_FOLDER}/datasets/TomatoDiscrepanciesSegmentation\"\n",
    "\n",
    "os.makedirs(DATASET_FOLDER, exist_ok=True)\n",
    "\n",
    "# MODEL_NAME_TO_USE = \"yolo11n-seg\" # yolov8n-seg\n",
    "MODEL_NAME_TO_USE = \"yolov8-all-c2f-simam-fixed-fully-adjusted-edges-simam-seg\"\n",
    "EXT_TYPE = \"yaml\" # pt or yaml; depends on whether you gonna use pretrained or from scratch\n",
    "MODEL_TO_USE = f\"{MODEL_NAME_TO_USE}.{EXT_TYPE}\"\n",
    "\n",
    "RUNS_FOLDER = \"runs/tomato_discrepancies_segment\"\n",
    "EXPERIMENT_NAME = f\"BASE_COCO_{MODEL_NAME_TO_USE}_{EPOCHS}_epochs\"\n",
    "\n",
    "#\n",
    "TRAIN_EXPERIMENT_NAME = f\"{EXPERIMENT_NAME}/train\"\n",
    "TRAINED_MODEL_PATH = f\"{DATASET_FOLDER}/{RUNS_FOLDER}/{TRAIN_EXPERIMENT_NAME}/weights/best.pt\"\n",
    "\n",
    "#\n",
    "VAL_EXPERIMENT_NAME = f\"{EXPERIMENT_NAME}/val\"\n",
    "TEST_EXPERIMENT_NAME = f\"{EXPERIMENT_NAME}/test\"\n",
    "\n",
    "# Define variables to the experiment folders where predictions will be stored\n",
    "INFERENCE_TRAIN_EXPERIMENT_NAME = f\"{TRAIN_EXPERIMENT_NAME}_predict\"\n",
    "INFERENCE_VAL_EXPERIMENT_NAME = f\"{VAL_EXPERIMENT_NAME}_predict\"\n",
    "INFERENCE_TEST_EXPERIMENT_NAME = f\"{TEST_EXPERIMENT_NAME}_predict\"\n",
    "\n",
    "# Define path variables to predicted images that you saved\n",
    "TRAIN_PREDICTIONS_PATH = f\"{DATASET_FOLDER}/{RUNS_FOLDER}/{INFERENCE_TRAIN_EXPERIMENT_NAME}\"\n",
    "VAL_PREDICTIONS_PATH = f\"{DATASET_FOLDER}/{RUNS_FOLDER}/{INFERENCE_VAL_EXPERIMENT_NAME}\"\n",
    "TEST_PREDICTIONS_PATH = f\"{DATASET_FOLDER}/{RUNS_FOLDER}/{INFERENCE_TEST_EXPERIMENT_NAME}\"\n",
    "\n",
    "# Define format and path for model export\n",
    "FORMAT = \"onnx\"\n",
    "EXPORT_EXPERIMENT_NAME = f\"{EXPERIMENT_NAME}/{FORMAT}\""
   ],
   "outputs": [],
   "execution_count": null
  },
  {
   "cell_type": "markdown",
   "metadata": {
    "id": "fT1qD4toTTw0"
   },
   "source": [
    "### 💻 CLI"
   ]
  },
  {
   "cell_type": "code",
   "source": [
    "%cd \"{DATASET_FOLDER}\"\n",
    "\n",
    "# Insert your own code for dataset downloading"
   ],
   "metadata": {
    "colab": {
     "base_uri": "https://localhost:8080/"
    },
    "id": "8KDCCMlb8zFL",
    "outputId": "33878749-f43e-46e4-d5fe-9a2220476fb1"
   },
   "outputs": [],
   "execution_count": null
  },
  {
   "cell_type": "markdown",
   "metadata": {
    "id": "YUjFBKKqXa-u"
   },
   "source": [
    "### Train YOLOv8"
   ]
  },
  {
   "cell_type": "markdown",
   "source": [
    "Train the model and evaluate its performance metrics on train subset to gain insights into its effectiveness"
   ],
   "metadata": {
    "id": "eJ_eMJW06XlB"
   }
  },
  {
   "cell_type": "code",
   "metadata": {
    "colab": {
     "base_uri": "https://localhost:8080/"
    },
    "id": "D2YkphuiaE7_",
    "outputId": "bf194ceb-b635-4309-8151-1d68849add20"
   },
   "source": [
    "%cd {DATASET_FOLDER}\n",
    "\n",
    "!yolo task=segment mode=train model=\"{MODEL_TO_USE}\" data=\"{DATASET_FOLDER}/data.yaml\" epochs=\"{EPOCHS}\" imgsz=\"{IMAGE_SIZE}\" plots=True project=\"{RUNS_FOLDER}\" name=\"{TRAIN_EXPERIMENT_NAME}\" save_period=\"{SAVE_PERIOD}\" close_mosaic=\"{CLOSE_MOSAIC}\""
   ],
   "outputs": [],
   "execution_count": null
  },
  {
   "cell_type": "markdown",
   "source": [
    "### Calculate metrics for validation and test subsets"
   ],
   "metadata": {
    "id": "Qs85n-iFAIBD"
   }
  },
  {
   "cell_type": "markdown",
   "source": [
    "Calculate metrics for `train` subset."
   ],
   "metadata": {
    "id": "5lHqmuNK7k-G"
   }
  },
  {
   "cell_type": "code",
   "source": [
    "%cd {DATASET_FOLDER}\n",
    "\n",
    "!yolo task=segment mode=val model=\"{TRAINED_MODEL_PATH}\" data=\"{DATASET_FOLDER}/train_data.yaml\" project=\"{RUNS_FOLDER}\" name=\"{TRAIN_EXPERIMENT_NAME}/train_metrics\""
   ],
   "metadata": {
    "id": "CTplDfDGZHoL",
    "colab": {
     "base_uri": "https://localhost:8080/"
    },
    "outputId": "3191a489-d637-4503-a623-15c683c7208e"
   },
   "outputs": [],
   "execution_count": null
  },
  {
   "cell_type": "markdown",
   "source": [
    "Assess metrics on `val` subset"
   ],
   "metadata": {
    "id": "5zHg8Zcl6Tre"
   }
  },
  {
   "cell_type": "code",
   "source": [
    "%cd {DATASET_FOLDER}\n",
    "\n",
    "!yolo task=segment mode=val model=\"{TRAINED_MODEL_PATH}\" data=\"{DATASET_FOLDER}/data.yaml\" project=\"{RUNS_FOLDER}\" name=\"{VAL_EXPERIMENT_NAME}\""
   ],
   "metadata": {
    "id": "0ctR_7yHibEm",
    "colab": {
     "base_uri": "https://localhost:8080/"
    },
    "outputId": "cd98d6b1-e8fc-4de6-b70a-04a1276f801d"
   },
   "outputs": [],
   "execution_count": null
  },
  {
   "cell_type": "markdown",
   "source": [
    "Assess metrics on `test` subset"
   ],
   "metadata": {
    "id": "AimqMVIo6EPg"
   }
  },
  {
   "cell_type": "code",
   "source": [
    "%cd {DATASET_FOLDER}\n",
    "\n",
    "!yolo task=segment mode=val model=\"{TRAINED_MODEL_PATH}\" data=\"{DATASET_FOLDER}/test_data.yaml\" project=\"{RUNS_FOLDER}\" name=\"{TEST_EXPERIMENT_NAME}\""
   ],
   "metadata": {
    "id": "mGCvXBsx57YX",
    "colab": {
     "base_uri": "https://localhost:8080/"
    },
    "outputId": "aaebe328-2525-4ad3-a9a5-8013458971e4"
   },
   "outputs": [],
   "execution_count": null
  },
  {
   "cell_type": "markdown",
   "source": [
    "### Visualize metrics"
   ],
   "metadata": {
    "id": "01b5x2_44lBP"
   }
  },
  {
   "cell_type": "code",
   "metadata": {
    "id": "A-urTWUkhRmn",
    "colab": {
     "base_uri": "https://localhost:8080/",
     "height": 217
    },
    "outputId": "f9dd0f67-6615-4198-be0b-9db97dc61fe2"
   },
   "source": [
    "Image(filename=f\"{DATASET_FOLDER}/{RUNS_FOLDER}/{TRAIN_EXPERIMENT_NAME}/results.png\", width=600)"
   ],
   "outputs": [],
   "execution_count": null
  },
  {
   "cell_type": "code",
   "metadata": {
    "id": "HI4nADCCj3F5",
    "colab": {
     "base_uri": "https://localhost:8080/",
     "height": 617
    },
    "outputId": "a9f470ff-51e2-4c6a-c56e-70ff9f3742be"
   },
   "source": [
    "Image(filename=f\"{DATASET_FOLDER}/{RUNS_FOLDER}/{TRAIN_EXPERIMENT_NAME}/val_batch0_pred.jpg\", width=600)"
   ],
   "outputs": [],
   "execution_count": null
  },
  {
   "cell_type": "code",
   "source": [
    "Image(filename=f\"{DATASET_FOLDER}/{RUNS_FOLDER}/{TRAIN_EXPERIMENT_NAME}/train_metrics/confusion_matrix_normalized.png\", width=650)"
   ],
   "metadata": {
    "id": "8JLI8WcN4iEz",
    "colab": {
     "base_uri": "https://localhost:8080/",
     "height": 505
    },
    "outputId": "c93483fc-fa9f-4c2f-cc73-500c9c2c9d95"
   },
   "outputs": [],
   "execution_count": null
  },
  {
   "cell_type": "code",
   "metadata": {
    "id": "_J35i8Ofhjxa",
    "colab": {
     "base_uri": "https://localhost:8080/",
     "height": 505
    },
    "outputId": "fd3cc105-bb1c-48d9-aa85-ea1aec318263"
   },
   "source": [
    "Image(filename=f\"{DATASET_FOLDER}/{RUNS_FOLDER}/{VAL_EXPERIMENT_NAME}/confusion_matrix_normalized.png\", width=650)"
   ],
   "outputs": [],
   "execution_count": null
  },
  {
   "cell_type": "code",
   "source": [
    "Image(filename=f\"{DATASET_FOLDER}/{RUNS_FOLDER}/{TEST_EXPERIMENT_NAME}/confusion_matrix_normalized.png\", width=650)"
   ],
   "metadata": {
    "id": "9cOnGd7e_JLF",
    "colab": {
     "base_uri": "https://localhost:8080/",
     "height": 505
    },
    "outputId": "b477a897-f6e7-461f-ac07-89aa2884b1fc"
   },
   "outputs": [],
   "execution_count": null
  },
  {
   "cell_type": "markdown",
   "metadata": {
    "id": "i4eASbcWkQBq"
   },
   "source": [
    "### Inference\n",
    "\n",
    "Make predictions with your previously trained model."
   ]
  },
  {
   "cell_type": "code",
   "source": [
    "import yaml\n",
    "\n",
    "def get_value_from_yaml(yaml_file, key):\n",
    "    with open(yaml_file, 'r') as file:\n",
    "        data = yaml.safe_load(file)\n",
    "        value = data.get(key, \"\")\n",
    "        return value\n",
    "\n",
    "parent_path = get_value_from_yaml(f\"{DATASET_FOLDER}/data.yaml\", \"path\")\n",
    "\n",
    "train_path = get_value_from_yaml(f\"{DATASET_FOLDER}/data.yaml\", \"train\")\n",
    "val_path = get_value_from_yaml(f\"{DATASET_FOLDER}/data.yaml\", \"val\")\n",
    "test_path = get_value_from_yaml(f\"{DATASET_FOLDER}/data.yaml\", \"test\")\n",
    "\n",
    "train_source = os.path.join(parent_path, train_path)\n",
    "val_source = os.path.join(parent_path, val_path)\n",
    "test_source = os.path.join(parent_path, test_path)\n",
    "\n",
    "print(\"Retrieved pathes\")\n",
    "print(f\"Train: {train_source}\")\n",
    "print(f\"Val: {val_source}\")\n",
    "print(f\"Test: {test_source}\")"
   ],
   "metadata": {
    "id": "39Hr9ZKaCoQZ",
    "colab": {
     "base_uri": "https://localhost:8080/"
    },
    "outputId": "58598232-7f21-4998-9256-f4efad0c8d73"
   },
   "outputs": [],
   "execution_count": null
  },
  {
   "cell_type": "code",
   "source": [
    "%cd {DATASET_FOLDER}\n",
    "\n",
    "!yolo task=segment mode=predict model=\"{TRAINED_MODEL_PATH}\" conf=0.25 source=\"{train_source}\" save=True project=\"{RUNS_FOLDER}\" name=\"{INFERENCE_TRAIN_EXPERIMENT_NAME}\""
   ],
   "metadata": {
    "id": "cGKXUtINIG9H",
    "colab": {
     "base_uri": "https://localhost:8080/"
    },
    "outputId": "8e23187d-34ca-43af-bb44-3b61b903bf00"
   },
   "outputs": [],
   "execution_count": null
  },
  {
   "cell_type": "code",
   "source": [
    "%cd {DATASET_FOLDER}\n",
    "\n",
    "!yolo task=segment mode=predict model=\"{TRAINED_MODEL_PATH}\" conf=0.25 source=\"{val_source}\" save=True project=\"{RUNS_FOLDER}\" name=\"{INFERENCE_VAL_EXPERIMENT_NAME}\""
   ],
   "metadata": {
    "id": "weYZmfkbIDP8",
    "colab": {
     "base_uri": "https://localhost:8080/"
    },
    "outputId": "c2163a7f-b04d-4bd8-c23d-e9e49946aed5"
   },
   "outputs": [],
   "execution_count": null
  },
  {
   "cell_type": "code",
   "metadata": {
    "id": "vsSZyf8xiR8P",
    "colab": {
     "base_uri": "https://localhost:8080/"
    },
    "outputId": "44646d2d-8bad-4111-defa-cffafa757127"
   },
   "source": [
    "%cd {DATASET_FOLDER}\n",
    "\n",
    "!yolo task=segment mode=predict model=\"{TRAINED_MODEL_PATH}\" conf=0.25 source=\"{test_source}\" save=True project=\"{RUNS_FOLDER}\" name=\"{INFERENCE_TEST_EXPERIMENT_NAME}\""
   ],
   "outputs": [],
   "execution_count": null
  },
  {
   "cell_type": "markdown",
   "metadata": {
    "id": "mEYIo95n-I0S"
   },
   "source": [
    "**NOTE:** Let's take a look at few results."
   ]
  },
  {
   "cell_type": "code",
   "metadata": {
    "id": "jbVjEtPAkz3j"
   },
   "source": [
    "def display_detected(path_to_pred_dir, predictions_to_display=5, display_width=600, return_display_list=False):\n",
    "  image_path_list = []\n",
    "  for image_path in glob.glob(f'{path_to_pred_dir}/*.jpg')[:predictions_to_display]:\n",
    "      display(Image(filename=image_path, width=display_width))\n",
    "      print(\"\\n\")\n",
    "      if return_display_list:\n",
    "        image_path_list.append(image_path)\n",
    "\n",
    "  if return_display_list:\n",
    "      return image_path_list"
   ],
   "outputs": [],
   "execution_count": null
  },
  {
   "cell_type": "code",
   "source": [
    "display_detected(f\"{TRAIN_PREDICTIONS_PATH}\")"
   ],
   "metadata": {
    "id": "Gy5AKWjoPLRO",
    "colab": {
     "base_uri": "https://localhost:8080/",
     "height": 1000
    },
    "outputId": "fe96f385-6482-4600-9b4b-b2250c7fc0cb"
   },
   "outputs": [],
   "execution_count": null
  },
  {
   "cell_type": "code",
   "source": [
    "display_detected(display_detected(f\"{VAL_PREDICTIONS_PATH}\"))"
   ],
   "metadata": {
    "id": "ae5wn55YIrdl",
    "colab": {
     "base_uri": "https://localhost:8080/",
     "height": 1000
    },
    "outputId": "5fd21ec7-4241-4ead-aaf7-7513099aadb8"
   },
   "outputs": [],
   "execution_count": null
  },
  {
   "cell_type": "code",
   "source": "test_images_inference_list = display_detected(display_detected(f\"{TEST_PREDICTIONS_PATH}\"), return_display_list=True)",
   "metadata": {
    "id": "G54PfsKNQNLu",
    "colab": {
     "base_uri": "https://localhost:8080/",
     "height": 1000
    },
    "outputId": "702fb185-e3c3-4baa-ca64-ad8687ba8b43"
   },
   "outputs": [],
   "execution_count": null
  },
  {
   "cell_type": "code",
   "source": [
    "%cd {DATASET_FOLDER}\n",
    "\n",
    "!yolo export model=\"{TRAINED_MODEL_PATH}\" imgsz=\"{IMAGE_SIZE}\" format=\"{FORMAT}\" project=\"{RUNS_FOLDER}\" name=\"{EXPORT_EXPERIMENT_NAME}\" opset=18"
   ],
   "metadata": {
    "id": "Qf8rvUDrF1kG",
    "colab": {
     "base_uri": "https://localhost:8080/"
    },
    "outputId": "c4b8af79-1e3f-4b72-9501-3ee60926f2aa"
   },
   "outputs": [],
   "execution_count": null
  },
  {
   "cell_type": "code",
   "source": [],
   "metadata": {
    "id": "TOEFAggfUeyb"
   },
   "outputs": [],
   "execution_count": null
  }
 ],
 "metadata": {
  "colab": {
   "provenance": []
  },
  "kernelspec": {
   "display_name": "Python 3 (ipykernel)",
   "name": "python3",
   "language": "python"
  },
  "language_info": {
   "name": "python"
  }
 },
 "nbformat": 4,
 "nbformat_minor": 0
}
